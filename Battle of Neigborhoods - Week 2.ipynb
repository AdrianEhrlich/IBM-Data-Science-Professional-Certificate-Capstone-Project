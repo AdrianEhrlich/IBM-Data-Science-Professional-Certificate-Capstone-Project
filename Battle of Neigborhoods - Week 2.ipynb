{
    "cells": [
        {
            "cell_type": "markdown",
            "metadata": {
                "collapsed": true
            },
            "source": "# Capstone Project - The Battle of Neighborhoods - Week 2"
        },
        {
            "cell_type": "markdown",
            "metadata": {},
            "source": "## Index"
        },
        {
            "cell_type": "markdown",
            "metadata": {},
            "source": "1. Introduction\n2. Data Understanding\n3. Data Preparation & Cleaning\n4. Evaluation\n5. Deployment\n6. Conclusions"
        },
        {
            "cell_type": "markdown",
            "metadata": {},
            "source": "## 1. Introduction"
        },
        {
            "cell_type": "markdown",
            "metadata": {},
            "source": "New York City has the biggest population in the United States of America. Around 8,622,357 inhabitants. The population density is 27,755.25 people per square mile, with an area of 468.19 square miles. Food culture include an array of international cuisines influenced by the city\u2019s immigrant history. In this study we will analyze public data to find insight, to open a new restaurant."
        },
        {
            "cell_type": "markdown",
            "metadata": {},
            "source": "### Project Goals"
        },
        {
            "cell_type": "markdown",
            "metadata": {},
            "source": "- What is the best location in New York City for a Mexican restaurant?\n- Which areas have potential Restaurant Market?\n- Which all areas lack Mexican Restaurants?"
        },
        {
            "cell_type": "markdown",
            "metadata": {},
            "source": "## 2. Data Understanding  "
        },
        {
            "cell_type": "markdown",
            "metadata": {},
            "source": "New York City's have a diverse offer when it comes to restaurants, each belonging to different categories/countries or regions. For this project, we will use an the following open dataset: \n\nNew York City data that contains a list of Boroughs and Neighborhoods along with their gps latitude and longitude.\n\nDataset: https://cocl.us/new_york_dataset\n\nRestaurants in each neighborhood of New York City.\n\nData set: Foursquare API\n\nGeoSpace data set\n\nData set : https://data.cityofnewyork.us/City-Government/Borough-Boundaries/tqmj-j8zm\nDescription: Get the New York Borough boundaries."
        },
        {
            "cell_type": "markdown",
            "metadata": {},
            "source": "## 3. Data Preparation and Cleaning"
        },
        {
            "cell_type": "markdown",
            "metadata": {},
            "source": "### 3.1 Install and import necesary libraries"
        },
        {
            "cell_type": "code",
            "execution_count": 151,
            "metadata": {},
            "outputs": [
                {
                    "name": "stdout",
                    "output_type": "stream",
                    "text": "/opt/conda/envs/Python-3.7-OpenCE/lib/python3.7/site-packages/secretstorage/dhcrypto.py:16: CryptographyDeprecationWarning: int_from_bytes is deprecated, use int.from_bytes instead\n  from cryptography.utils import int_from_bytes\n/opt/conda/envs/Python-3.7-OpenCE/lib/python3.7/site-packages/secretstorage/util.py:25: CryptographyDeprecationWarning: int_from_bytes is deprecated, use int.from_bytes instead\n  from cryptography.utils import int_from_bytes\nRequirement already satisfied: geopy in /opt/conda/envs/Python-3.7-OpenCE/lib/python3.7/site-packages (2.0.0)\nRequirement already satisfied: geographiclib<2,>=1.49 in /opt/conda/envs/Python-3.7-OpenCE/lib/python3.7/site-packages (from geopy) (1.50)\n/opt/conda/envs/Python-3.7-OpenCE/lib/python3.7/site-packages/secretstorage/dhcrypto.py:16: CryptographyDeprecationWarning: int_from_bytes is deprecated, use int.from_bytes instead\n  from cryptography.utils import int_from_bytes\n/opt/conda/envs/Python-3.7-OpenCE/lib/python3.7/site-packages/secretstorage/util.py:25: CryptographyDeprecationWarning: int_from_bytes is deprecated, use int.from_bytes instead\n  from cryptography.utils import int_from_bytes\nRequirement already satisfied: folium in /opt/conda/envs/Python-3.7-OpenCE/lib/python3.7/site-packages (0.12.1)\nRequirement already satisfied: requests in /opt/conda/envs/Python-3.7-OpenCE/lib/python3.7/site-packages (from folium) (2.22.0)\nRequirement already satisfied: numpy in /opt/conda/envs/Python-3.7-OpenCE/lib/python3.7/site-packages (from folium) (1.19.2)\nRequirement already satisfied: branca>=0.3.0 in /opt/conda/envs/Python-3.7-OpenCE/lib/python3.7/site-packages (from folium) (0.4.2)\nRequirement already satisfied: jinja2>=2.9 in /opt/conda/envs/Python-3.7-OpenCE/lib/python3.7/site-packages (from folium) (2.11.3)\nRequirement already satisfied: idna<2.9,>=2.5 in /opt/conda/envs/Python-3.7-OpenCE/lib/python3.7/site-packages (from requests->folium) (2.8)\nRequirement already satisfied: chardet<3.1.0,>=3.0.2 in /opt/conda/envs/Python-3.7-OpenCE/lib/python3.7/site-packages (from requests->folium) (3.0.4)\nRequirement already satisfied: urllib3!=1.25.0,!=1.25.1,<1.26,>=1.21.1 in /opt/conda/envs/Python-3.7-OpenCE/lib/python3.7/site-packages (from requests->folium) (1.25.9)\nRequirement already satisfied: certifi>=2017.4.17 in /opt/conda/envs/Python-3.7-OpenCE/lib/python3.7/site-packages (from requests->folium) (2021.5.30)\nRequirement already satisfied: MarkupSafe>=0.23 in /opt/conda/envs/Python-3.7-OpenCE/lib/python3.7/site-packages (from jinja2>=2.9->folium) (1.1.1)\n"
                }
            ],
            "source": "import requests # library to handle requests\nimport pandas as pd # library for data analsysis\nimport numpy as np # library to handle data in a vectorized manner\nimport random # library for random number generation\n\n!pip install geopy\nfrom geopy.geocoders import Nominatim # module to convert an address into latitude and longitude values\n\n# libraries for displaying images\nfrom IPython.display import Image \nfrom IPython.core.display import HTML \n    \n# tranforming json file into a pandas dataframe library\nfrom pandas.io.json import json_normalize\n\n\n! pip install folium\n# ! pip install folium==2.11.2\nimport folium # plotting library\n\n# associated plotting modules\nimport matplotlib.pyplot as plt\nimport matplotlib.cm as cm\nimport matplotlib.colors as colors\n%matplotlib inline"
        },
        {
            "cell_type": "markdown",
            "metadata": {},
            "source": "### 3.2 Foursquare function"
        },
        {
            "cell_type": "markdown",
            "metadata": {},
            "source": "Define a function to interact with FourSquare API and get top 100 venues within a radius of 5000 metres for a given latitude and longitude. The function will return venue id, venue name and category:"
        },
        {
            "cell_type": "code",
            "execution_count": 152,
            "metadata": {},
            "outputs": [],
            "source": "CLIENT_ID = 'UMAHH11LV5ZCHZOSPLPTXCRMMH25ARQKISU2DGVAWRM3QWYN'\nCLIENT_SECRET = '4QLBJT0HWROGTCJUEB144WIVJJ5DY31CFVLRPKBUU0LKN4BL'\nVERSION = '20180604'\nLIMIT = 100\nradius=5000"
        },
        {
            "cell_type": "code",
            "execution_count": 153,
            "metadata": {},
            "outputs": [],
            "source": "def geo_location(address):\n    # get geo location of address\n    geolocator = Nominatim(user_agent=\"foursquare_agent\")\n    location = geolocator.geocode(address)\n    latitude = location.latitude\n    longitude = location.longitude\n    return latitude,longitude"
        },
        {
            "cell_type": "code",
            "execution_count": 154,
            "metadata": {},
            "outputs": [
                {
                    "name": "stdout",
                    "output_type": "stream",
                    "text": "Geograpical coordinate of New York, Manhattan are 40.7896239, -73.9598939.\n"
                }
            ],
            "source": "# Place where we get the max ratings\naddress = 'New York, Manhattan'\ngeolocator = Nominatim(user_agent=\"http\")\nlocation = geolocator.geocode(address)\nlatitude = location.latitude\nlongitude = location.longitude\nprint('Geograpical coordinate of {} are {}, {}.'.format(address, latitude, longitude))"
        },
        {
            "cell_type": "code",
            "execution_count": 159,
            "metadata": {},
            "outputs": [],
            "source": "def get_venues(lat,lng):\n    \n    #url to fetch data from foursquare api\n    url = 'https://api.foursquare.com/v2/venues/explore?&client_id={}&client_secret={}&v={}&ll={},{}&radius={}&limit={}'.format(\n            CLIENT_ID, \n            CLIENT_SECRET, \n            VERSION, \n            lat, \n            lng, \n            radius, \n            LIMIT)\n    \n    # get all the data\n    results = requests.get(url).json()\n    venue_data=results[\"response\"]['groups'][0]['items']\n    venue_details=[]\n    for row in venue_data:\n        try:\n            venue_id=row['venue']['id']\n            venue_name=row['venue']['name']\n            venue_category=row['venue']['categories'][0]['name']\n            venue_details.append([venue_id,venue_name,venue_category])\n        except KeyError:\n            pass\n        \n    column_names=['ID','Name','Category']\n    df = pd.DataFrame(venue_details,columns=column_names)\n    return df"
        },
        {
            "cell_type": "markdown",
            "metadata": {},
            "source": "Test Function:"
        },
        {
            "cell_type": "code",
            "execution_count": 164,
            "metadata": {
                "scrolled": true
            },
            "outputs": [
                {
                    "data": {
                        "text/html": "<div>\n<style scoped>\n    .dataframe tbody tr th:only-of-type {\n        vertical-align: middle;\n    }\n\n    .dataframe tbody tr th {\n        vertical-align: top;\n    }\n\n    .dataframe thead th {\n        text-align: right;\n    }\n</style>\n<table border=\"1\" class=\"dataframe\">\n  <thead>\n    <tr style=\"text-align: right;\">\n      <th></th>\n      <th>ID</th>\n      <th>Name</th>\n      <th>Category</th>\n    </tr>\n  </thead>\n  <tbody>\n    <tr>\n      <th>0</th>\n      <td>4ba233dbf964a5206fe337e3</td>\n      <td>East Meadow</td>\n      <td>Field</td>\n    </tr>\n    <tr>\n      <th>1</th>\n      <td>4a746fb2f964a52025de1fe3</td>\n      <td>The Jewish Museum</td>\n      <td>Museum</td>\n    </tr>\n    <tr>\n      <th>2</th>\n      <td>5328a418498e4be839240b62</td>\n      <td>Da Capo</td>\n      <td>Caf\u00e9</td>\n    </tr>\n    <tr>\n      <th>3</th>\n      <td>4a229fa8f964a520797d1fe3</td>\n      <td>Jacqueline Kennedy Onassis Reservoir</td>\n      <td>Reservoir</td>\n    </tr>\n    <tr>\n      <th>4</th>\n      <td>4a2fc4d3f964a520da981fe3</td>\n      <td>Cooper Hewitt Smithsonian Design Museum</td>\n      <td>Art Museum</td>\n    </tr>\n  </tbody>\n</table>\n</div>",
                        "text/plain": "                         ID                                     Name  \\\n0  4ba233dbf964a5206fe337e3                              East Meadow   \n1  4a746fb2f964a52025de1fe3                        The Jewish Museum   \n2  5328a418498e4be839240b62                                  Da Capo   \n3  4a229fa8f964a520797d1fe3     Jacqueline Kennedy Onassis Reservoir   \n4  4a2fc4d3f964a520da981fe3  Cooper Hewitt Smithsonian Design Museum   \n\n     Category  \n0       Field  \n1      Museum  \n2        Caf\u00e9  \n3   Reservoir  \n4  Art Museum  "
                    },
                    "execution_count": 164,
                    "metadata": {},
                    "output_type": "execute_result"
                }
            ],
            "source": "venues = get_venues(40.7896239, -73.9598939)\nvenues.head()"
        },
        {
            "cell_type": "code",
            "execution_count": 148,
            "metadata": {},
            "outputs": [
                {
                    "data": {
                        "text/plain": "(100, 3)"
                    },
                    "execution_count": 148,
                    "metadata": {},
                    "output_type": "execute_result"
                }
            ],
            "source": "venues.shape"
        },
        {
            "cell_type": "markdown",
            "metadata": {},
            "source": "Define a function to get venue details like like count , rating , tip counts for a given venue id. This will be used for ranking:"
        },
        {
            "cell_type": "code",
            "execution_count": 165,
            "metadata": {},
            "outputs": [],
            "source": "def get_venue_details(venue_id):\n  \n    #url to fetch data from foursquare api\n    url = 'https://api.foursquare.com/v2/venues/{}?&client_id={}&client_secret={}&v={}'.format(\n            venue_id,\n            CLIENT_ID, \n            CLIENT_SECRET, \n            VERSION)\n    \n    # get all the data\n    results = requests.get(url).json()\n    venue_data=results['response']['venue']\n    venue_details=[]\n    try:\n        venue_id=venue_data['id']\n        venue_name=venue_data['name']\n        venue_likes=venue_data['likes']['count']\n        venue_rating=venue_data['rating']\n        venue_tips=venue_data['tips']['count']\n        venue_details.append([venue_id,venue_name,venue_likes,venue_rating,venue_tips])\n    except KeyError:\n        pass\n        \n    column_names=['ID','Name','Likes','Rating','Tips']\n    df = pd.DataFrame(venue_details,columns=column_names)\n    return df"
        },
        {
            "cell_type": "markdown",
            "metadata": {},
            "source": "Test Function:"
        },
        {
            "cell_type": "code",
            "execution_count": 167,
            "metadata": {},
            "outputs": [
                {
                    "ename": "KeyError",
                    "evalue": "'venue'",
                    "output_type": "error",
                    "traceback": [
                        "\u001b[0;31m---------------------------------------------------------------------------\u001b[0m",
                        "\u001b[0;31mKeyError\u001b[0m                                  Traceback (most recent call last)",
                        "\u001b[0;32m<ipython-input-167-ce6591eaf4f0>\u001b[0m in \u001b[0;36m<module>\u001b[0;34m\u001b[0m\n\u001b[0;32m----> 1\u001b[0;31m \u001b[0mget_venue_details\u001b[0m\u001b[0;34m(\u001b[0m\u001b[0mvenue_id\u001b[0m\u001b[0;34m=\u001b[0m\u001b[0;34m'4a2fc4d3f964a520da981fe3'\u001b[0m\u001b[0;34m)\u001b[0m\u001b[0;34m\u001b[0m\u001b[0;34m\u001b[0m\u001b[0m\n\u001b[0m",
                        "\u001b[0;32m<ipython-input-165-f2ca439063fb>\u001b[0m in \u001b[0;36mget_venue_details\u001b[0;34m(venue_id)\u001b[0m\n\u001b[1;32m     10\u001b[0m     \u001b[0;31m# get all the data\u001b[0m\u001b[0;34m\u001b[0m\u001b[0;34m\u001b[0m\u001b[0;34m\u001b[0m\u001b[0m\n\u001b[1;32m     11\u001b[0m     \u001b[0mresults\u001b[0m \u001b[0;34m=\u001b[0m \u001b[0mrequests\u001b[0m\u001b[0;34m.\u001b[0m\u001b[0mget\u001b[0m\u001b[0;34m(\u001b[0m\u001b[0murl\u001b[0m\u001b[0;34m)\u001b[0m\u001b[0;34m.\u001b[0m\u001b[0mjson\u001b[0m\u001b[0;34m(\u001b[0m\u001b[0;34m)\u001b[0m\u001b[0;34m\u001b[0m\u001b[0;34m\u001b[0m\u001b[0m\n\u001b[0;32m---> 12\u001b[0;31m     \u001b[0mvenue_data\u001b[0m\u001b[0;34m=\u001b[0m\u001b[0mresults\u001b[0m\u001b[0;34m[\u001b[0m\u001b[0;34m'response'\u001b[0m\u001b[0;34m]\u001b[0m\u001b[0;34m[\u001b[0m\u001b[0;34m'venue'\u001b[0m\u001b[0;34m]\u001b[0m\u001b[0;34m\u001b[0m\u001b[0;34m\u001b[0m\u001b[0m\n\u001b[0m\u001b[1;32m     13\u001b[0m     \u001b[0mvenue_details\u001b[0m\u001b[0;34m=\u001b[0m\u001b[0;34m[\u001b[0m\u001b[0;34m]\u001b[0m\u001b[0;34m\u001b[0m\u001b[0;34m\u001b[0m\u001b[0m\n\u001b[1;32m     14\u001b[0m     \u001b[0;32mtry\u001b[0m\u001b[0;34m:\u001b[0m\u001b[0;34m\u001b[0m\u001b[0;34m\u001b[0m\u001b[0m\n",
                        "\u001b[0;31mKeyError\u001b[0m: 'venue'"
                    ]
                }
            ],
            "source": "get_venue_details(venue_id='4a2fc4d3f964a520da981fe3')"
        },
        {
            "cell_type": "code",
            "execution_count": null,
            "metadata": {},
            "outputs": [],
            "source": "def get_new_york_data():\n  \n    url='https://cocl.us/new_york_dataset'\n    resp=requests.get(url).json()\n    # all data is present in features label\n    features=resp['features']\n    \n    # define the dataframe columns\n    column_names = ['Borough', 'Neighborhood', 'Latitude', 'Longitude'] \n    # instantiate the dataframe\n    new_york_data = pd.DataFrame(columns=column_names)\n    \n    for data in features:\n        borough = data['properties']['borough'] \n        neighborhood_name = data['properties']['name']\n        \n        neighborhood_latlon = data['geometry']['coordinates']\n        neighborhood_lat = neighborhood_latlon[1]\n        neighborhood_lon = neighborhood_latlon[0]\n    \n        new_york_data = new_york_data.append({'Borough': borough,\n                                          'Neighborhood': neighborhood_name,\n                                          'Latitude': neighborhood_lat,\n                                          'Longitude': neighborhood_lon}, ignore_index=True)\n    \n    return new_york_data"
        },
        {
            "cell_type": "markdown",
            "metadata": {},
            "source": "Call funtion to get the New York City data:"
        },
        {
            "cell_type": "code",
            "execution_count": null,
            "metadata": {},
            "outputs": [],
            "source": "new_york_data = get_new_york_data()\nnew_york_data.head()"
        },
        {
            "cell_type": "code",
            "execution_count": null,
            "metadata": {},
            "outputs": [],
            "source": "new_york_data.shape"
        },
        {
            "cell_type": "markdown",
            "metadata": {},
            "source": "Saving New York data in csv format:"
        },
        {
            "cell_type": "code",
            "execution_count": null,
            "metadata": {},
            "outputs": [],
            "source": "new_york_data.to_csv('new_york_data.csv', index=False)"
        },
        {
            "cell_type": "markdown",
            "metadata": {},
            "source": "Plotting the Neighborhoods in New York."
        },
        {
            "cell_type": "code",
            "execution_count": null,
            "metadata": {},
            "outputs": [],
            "source": "plt.figure(figsize=(10,5), dpi=100)\n# title\nplt.title('Number of Neighborhoods for each Borough in New York City')\n#On x-axis\nplt.xlabel('Borough', fontsize=15)\n#On y-axis\nplt.ylabel('No. of Neighborhoods', fontsize=15)\n#giving a bar plot\nnew_york_data.groupby('Borough')['Neighborhood'].count().plot(kind='bar', color='green')\n#legend\nplt.legend()\n#displays the plot\nplt.show()"
        },
        {
            "cell_type": "markdown",
            "metadata": {},
            "source": "According to the plot, Queens has the higher number of neighborhoods while Manhattan has the lower."
        },
        {
            "cell_type": "markdown",
            "metadata": {},
            "source": "Lets find out how many Mexican Restaurants are in each neighborhood:"
        },
        {
            "cell_type": "code",
            "execution_count": null,
            "metadata": {},
            "outputs": [],
            "source": "# prepare neighborhood list that contains mexican resturants\ncolumn_names = ['Borough', 'Neighborhood', 'ID','Name']\nmexican_rest_ny = pd.DataFrame(columns=column_names)\ncount = 1\nfor row in new_york_data.values.tolist():\n    Borough, Neighborhood, Latitude, Longitude=row\n    venues = get_venues(Latitude,Longitude)\n    mexican_resturants = venues[venues['Category']=='Mexican Restaurant']   \n    print('(',count,'/',len(new_york_data),')','Mexican Resturants in '+Neighborhood+', '+Borough+':'+str(len(mexican_resturants)))\n    for resturant_detail in mexican_resturants.values.tolist():\n        id, name , category = resturant_detail\n        mexican_rest_ny = mexican_rest_ny.append({'Borough': Borough,\n                                                'Neighborhood': Neighborhood, \n                                                'ID': id,\n                                                'Name' : name\n                                               }, ignore_index=True)\n    count+=1"
        },
        {
            "cell_type": "markdown",
            "metadata": {},
            "source": "Lets explore Mexican Restaurants:"
        },
        {
            "cell_type": "code",
            "execution_count": null,
            "metadata": {},
            "outputs": [],
            "source": "mexican_rest_ny.head()"
        },
        {
            "cell_type": "code",
            "execution_count": null,
            "metadata": {},
            "outputs": [],
            "source": "mexican_rest_ny.shape"
        },
        {
            "cell_type": "markdown",
            "metadata": {},
            "source": "Saving the dataset into a csv file:"
        },
        {
            "cell_type": "code",
            "execution_count": null,
            "metadata": {},
            "outputs": [],
            "source": "mexican_rest_ny.to_csv('mexican_rest_ny.csv', index=False)"
        },
        {
            "cell_type": "markdown",
            "metadata": {},
            "source": "## Exploring Mexican Restaurants in each borough and neighborhood"
        },
        {
            "cell_type": "markdown",
            "metadata": {},
            "source": "The following plot shows the number of Mexican resturants for each Borough in New York City:"
        },
        {
            "cell_type": "code",
            "execution_count": null,
            "metadata": {},
            "outputs": [],
            "source": "plt.figure(figsize=(10,5), dpi=100)\n# title\nplt.title('Number of Mexican Resturants for each Borough in New York City')\n#On x-axis\nplt.xlabel('Borough', fontsize=15)\n#On y-axis\nplt.ylabel('No.of Mexican Resturants', fontsize=15)\n#giving a bar plot\nmexican_rest_ny.groupby('Borough')['ID'].count().plot(kind='bar', color='orangered')\n#legend\nplt.legend()\n#displays the plot\nplt.show()"
        },
        {
            "cell_type": "markdown",
            "metadata": {},
            "source": "According to the plot, the Bronx has the higher number of Mexican Restaurants while Manhattan the lower."
        },
        {
            "cell_type": "markdown",
            "metadata": {},
            "source": "The following plot shows the number of Mexican resturants for each Neighborhood in New York City:"
        },
        {
            "cell_type": "code",
            "execution_count": null,
            "metadata": {},
            "outputs": [],
            "source": "plt.figure(figsize=(10,5), dpi=100)\n# title\nplt.title('Number of Mexican Resturants for each Neighborhood in New York City')\n#On x-axis\nplt.xlabel('Neighborhood', fontsize=15)\n#On y-axis\nplt.ylabel('No.of Mexican Resturants', fontsize=15)\n#giving a bar plot\nbrazilian_rest_ny.groupby('Neighborhood')['ID'].count().nlargest(5).plot(kind='bar', color='limegreen')\n#legend\nplt.legend()\n#displays the plot\nplt.show()"
        },
        {
            "cell_type": "markdown",
            "metadata": {},
            "source": "As we can see in the plot, Concourse and Soundview have the highes (and equal) number of Mexican Restaurants while Borough Park, Clason Point and Glendale have the lowes (and equal) number."
        },
        {
            "cell_type": "markdown",
            "metadata": {},
            "source": "Lests furhter explore Concourse and Soundview restaurants:"
        },
        {
            "cell_type": "code",
            "execution_count": null,
            "metadata": {},
            "outputs": [],
            "source": "mexican_rest_ny[mexican_rest_ny['Neighborhood']=='Concourse']"
        },
        {
            "cell_type": "code",
            "execution_count": null,
            "metadata": {},
            "outputs": [],
            "source": "mexican_rest_ny[mexican_rest_ny['Neighborhood']=='Soundview']"
        },
        {
            "cell_type": "markdown",
            "metadata": {},
            "source": "Lets get the ranking for each restaurant:"
        },
        {
            "cell_type": "code",
            "execution_count": null,
            "metadata": {},
            "outputs": [],
            "source": "# create a neighborhood list that contains mexican resturants\ncolumn_names=['Borough', 'Neighborhood', 'ID','Name','Likes','Rating','Tips']\nmexican_rest_stats_ny=pd.DataFrame(columns=column_names)\n\ncount = 1\n\nfor row in mexican_rest_ny.values.tolist():\n    Borough,Neighborhood,ID,Name=row\n    try:\n        venue_details=get_venue_details(ID)\n        print(venue_details)\n        id,name,likes,rating,tips=venue_details.values.tolist()[0]\n    except IndexError:\n        print('No data available for id=',ID)\n        # we will assign 0 value for these resturants as they may have been recently opened or details does not exist in FourSquare Database\n        id,name,likes,rating,tips=[0]*5\n    print('(',count,'/',len(mexican_rest_ny),')','processed')\n    mexican_rest_stats_ny = mexican_rest_stats_ny.append({'Borough': Borough,\n                                                'Neighborhood': Neighborhood, \n                                                'ID': id,\n                                                'Name' : name,\n                                                'Likes' : likes,\n                                                'Rating' : rating,\n                                                'Tips' : tips\n                                               }, ignore_index=True)\n    count+=1"
        },
        {
            "cell_type": "markdown",
            "metadata": {},
            "source": "Lets see this data in a dataframe:"
        },
        {
            "cell_type": "code",
            "execution_count": null,
            "metadata": {},
            "outputs": [],
            "source": "mexican_rest_stats_ny.head()"
        },
        {
            "cell_type": "markdown",
            "metadata": {},
            "source": "Show dataframe shape:"
        },
        {
            "cell_type": "code",
            "execution_count": null,
            "metadata": {},
            "outputs": [],
            "source": "mexican_rest_stats_ny.shape"
        },
        {
            "cell_type": "markdown",
            "metadata": {},
            "source": "Now the dataframe is saved into a csv file for further exploration:"
        },
        {
            "cell_type": "code",
            "execution_count": null,
            "metadata": {},
            "outputs": [],
            "source": "mexican_rest_stats_ny.to_csv('mexican_rest_stats_ny.csv', index=False)\n\nmexican_rest_stats_ny_csv=pd.read_csv('mexican_rest_stats_ny.csv')"
        },
        {
            "cell_type": "code",
            "execution_count": null,
            "metadata": {},
            "outputs": [],
            "source": "mexican_rest_stats_ny_csv.head()"
        },
        {
            "cell_type": "markdown",
            "metadata": {},
            "source": "Lets explore the datatypes of the dataframe:"
        },
        {
            "cell_type": "code",
            "execution_count": null,
            "metadata": {},
            "outputs": [],
            "source": "mexican_rest_stats_ny_csv.info()"
        },
        {
            "cell_type": "markdown",
            "metadata": {},
            "source": "Data type of 'Likes' and 'Tips' are of type 'int64'. We will convert them into type 'Float' for further analysis:"
        },
        {
            "cell_type": "code",
            "execution_count": null,
            "metadata": {},
            "outputs": [],
            "source": "mexican_rest_stats_ny['Likes']=mexican_rest_stats_ny_csv['Likes'].astype('float64')\nmexican_rest_stats_ny['Tips']=mexican_rest_stats_ny_csv['Tips'].astype('float64')"
        },
        {
            "cell_type": "markdown",
            "metadata": {},
            "source": "Lets verify the changes:"
        },
        {
            "cell_type": "code",
            "execution_count": null,
            "metadata": {},
            "outputs": [],
            "source": "mexican_rest_stats_ny_csv.info()"
        },
        {
            "cell_type": "markdown",
            "metadata": {},
            "source": "Lets find the restuarants with Highest number of Likes, Ratings and Tips:"
        },
        {
            "cell_type": "code",
            "execution_count": null,
            "metadata": {},
            "outputs": [],
            "source": "# Resturant with highest number of Likes\nmexican_rest_stats_ny.iloc[mexican_rest_stats_ny['Likes'].idxmax()]"
        },
        {
            "cell_type": "code",
            "execution_count": null,
            "metadata": {},
            "outputs": [],
            "source": "# Resturant with highest number of Rating\nmexican_rest_stats_ny.iloc[mexican_rest_stats_ny['Rating'].idxmax()]"
        },
        {
            "cell_type": "code",
            "execution_count": null,
            "metadata": {},
            "outputs": [],
            "source": "# Resturant with highest number of Tips\nmexican_rest_stats_ny.iloc[mexican_rest_stats_ny['Tips'].idxmax()]"
        },
        {
            "cell_type": "markdown",
            "metadata": {},
            "source": "Lets visualize the neighborhood with the highest average ratings for Mexican resturants:"
        },
        {
            "cell_type": "code",
            "execution_count": null,
            "metadata": {},
            "outputs": [],
            "source": "ny_borough_stats=mexican_rest_stats_ny.groupby('Borough',as_index=False).mean()[['Borough','Rating']]\nny_borough_stats.columns=['Borough','Average Rating']\nny_borough_stats.sort_values(['Average Rating'],ascending=False).head()"
        },
        {
            "cell_type": "markdown",
            "metadata": {},
            "source": "Lets create a plot to visualize this data:"
        },
        {
            "cell_type": "code",
            "execution_count": null,
            "metadata": {},
            "outputs": [],
            "source": "plt.figure(figsize=(10,5), dpi=100)\n# title\nplt.title('Average rating of Mexican Resturants for each Borough')\n#On x-axis\nplt.xlabel('Borough', fontsize=15)\n#On y-axis\nplt.ylabel('Average Rating', fontsize=15)\n#giving a bar plot\nmexican_rest_stats_ny.groupby('Borough').mean()['Rating'].plot(kind='bar', color='aqua')\n#legend\nplt.legend()\n#displays the plot\nplt.show()"
        },
        {
            "cell_type": "markdown",
            "metadata": {},
            "source": "Lets find neighborhoods with average rating greater or equal to 7.0 to visualize on a map:"
        },
        {
            "cell_type": "code",
            "execution_count": null,
            "metadata": {},
            "outputs": [],
            "source": "ny_neighborhood_stats = ny_neighborhood_stats[ny_neighborhood_stats['Average Rating']>=7.0]\nny_neighborhood_stats"
        },
        {
            "cell_type": "markdown",
            "metadata": {},
            "source": "Now lets join this dataset to new york data to get lonitude and latitude:"
        },
        {
            "cell_type": "code",
            "execution_count": null,
            "metadata": {},
            "outputs": [],
            "source": "ny_neighborhood_stats = pd.merge(ny_neighborhood_stats,new_york_data, on='Neighborhood')\nny_neighborhood_stats = ny_neighborhood_stats[['Borough','Neighborhood','Latitude','Longitude','Average Rating']]\nny_neighborhood_stats"
        },
        {
            "cell_type": "markdown",
            "metadata": {},
            "source": "Lets map the data:"
        },
        {
            "cell_type": "code",
            "execution_count": null,
            "metadata": {},
            "outputs": [],
            "source": "ny_map = folium.Map(location=geo_location('New York'), zoom_start=10)"
        },
        {
            "cell_type": "code",
            "execution_count": null,
            "metadata": {},
            "outputs": [],
            "source": "# instantiate a feature group for the incidents in the dataframe\nincidents = folium.map.FeatureGroup()\n\n# loop through the neighborhood and add each to the feature group\nfor lat, lng, in ny_neighborhood_stats[['Latitude','Longitude']].values:\n    incidents.add_child(\n        folium.CircleMarker(\n            [lat, lng],\n            radius=10, # define how big the circle markers will be\n            color='yellow',\n            fill=True,\n            fill_color='blue',\n            fill_opacity=0.6\n        )\n    )"
        },
        {
            "cell_type": "markdown",
            "metadata": {},
            "source": "Add a new field to dataframe for labeling purpose:"
        },
        {
            "cell_type": "code",
            "execution_count": null,
            "metadata": {},
            "outputs": [],
            "source": "ny_neighborhood_stats['Label']=ny_neighborhood_stats['Neighborhood']+', '+ny_neighborhood_stats['Borough']+'('+ny_neighborhood_stats['Average Rating'].map(str)+')'"
        },
        {
            "cell_type": "markdown",
            "metadata": {},
            "source": "Add pop-up text to each marker on the map:"
        },
        {
            "cell_type": "code",
            "execution_count": null,
            "metadata": {
                "scrolled": true
            },
            "outputs": [],
            "source": "for lat, lng, label in ny_neighborhood_stats[['Latitude','Longitude','Label']].values:\n    folium.Marker([lat, lng], popup=label).add_to(ny_map)        \n# add incidents to map\nny_map.add_child(incidents)"
        },
        {
            "cell_type": "markdown",
            "metadata": {},
            "source": "Make this Notebook Trusted to load map: File -> Trust Notebook"
        },
        {
            "cell_type": "markdown",
            "metadata": {},
            "source": "Now lets visualize boroughs based on average rating:"
        },
        {
            "cell_type": "code",
            "execution_count": null,
            "metadata": {},
            "outputs": [],
            "source": "ny_map2 = folium.Map(location=geo_location('New York'), zoom_start=10)"
        },
        {
            "cell_type": "code",
            "execution_count": null,
            "metadata": {},
            "outputs": [],
            "source": "# instantiate a feature group for the incidents in the dataframe\nincidents2 = folium.map.FeatureGroup()\n\n# loop through the neighborhood and add each to the feature group\nfor lat, lng, in ny_neighborhood_stats[['Latitude','Longitude']].values:\n    incidents.add_child(\n        folium.CircleMarker(\n            [lat, lng],\n            radius=10, # define how big the circle markers will be\n            color='yellow',\n            fill=True,\n            fill_color='blue',\n            fill_opacity=0.6\n        )\n    )"
        },
        {
            "cell_type": "code",
            "execution_count": null,
            "metadata": {},
            "outputs": [],
            "source": "ny_neighborhood_stats['Label']=ny_neighborhood_stats['Neighborhood']+', '+ny_neighborhood_stats['Borough']+'('+ny_neighborhood_stats['Average Rating'].map(str)+')'\n"
        },
        {
            "cell_type": "code",
            "execution_count": null,
            "metadata": {},
            "outputs": [],
            "source": "for lat, lng, label in ny_neighborhood_stats[['Latitude','Longitude','Label']].values:\n    folium.Marker([lat, lng], popup=label).add_to(ny_map)        \n# add incidents to map\nny_map.add_child(incidents)"
        },
        {
            "cell_type": "markdown",
            "metadata": {},
            "source": "## 4. Evaluation"
        },
        {
            "cell_type": "markdown",
            "metadata": {},
            "source": "After all the analysis that was perform we have found the needed information to decide where would be the ideal place to open the new restaurant."
        },
        {
            "cell_type": "markdown",
            "metadata": {},
            "source": "## 5. Deployment"
        },
        {
            "cell_type": "markdown",
            "metadata": {},
            "source": "This project could be implemented into a regression algorithm for further development."
        },
        {
            "cell_type": "markdown",
            "metadata": {},
            "source": "## 6. Conclusions"
        },
        {
            "cell_type": "markdown",
            "metadata": {},
            "source": "This project has led us to conclude that:\n\n- Manhattan is the best place to open the restaurant since there is little competition\n- Along with Manhattan, Queens and Brooklyn have good market potential for a new restaurant\n- There aren't areas lacking Mexican Restaurants but there are areas with low number of them"
        },
        {
            "cell_type": "code",
            "execution_count": null,
            "metadata": {},
            "outputs": [],
            "source": ""
        }
    ],
    "metadata": {
        "kernelspec": {
            "display_name": "Python 3.7",
            "language": "python",
            "name": "python3"
        },
        "language_info": {
            "codemirror_mode": {
                "name": "ipython",
                "version": 3
            },
            "file_extension": ".py",
            "mimetype": "text/x-python",
            "name": "python",
            "nbconvert_exporter": "python",
            "pygments_lexer": "ipython3",
            "version": "3.7.10"
        }
    },
    "nbformat": 4,
    "nbformat_minor": 1
}