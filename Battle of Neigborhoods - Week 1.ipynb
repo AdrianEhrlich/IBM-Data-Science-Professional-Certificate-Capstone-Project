{
    "cells": [
        {
            "cell_type": "markdown",
            "metadata": {
                "collapsed": true
            },
            "source": "# Capstone Project - The Battle of Neighborhoods"
        },
        {
            "cell_type": "markdown",
            "metadata": {},
            "source": "## Index"
        },
        {
            "cell_type": "markdown",
            "metadata": {},
            "source": "1. Introduction\n2. Data Understanding\n3. Data Preparation & Cleaning\n4. Evaluation\n5. Deployment\n6. Conclusions"
        },
        {
            "cell_type": "markdown",
            "metadata": {},
            "source": "## 1. Introduction"
        },
        {
            "cell_type": "markdown",
            "metadata": {},
            "source": "New York City has the biggest population in the United States of America. Around 8,622,357 inhabitants. The population density is 27,755.25 people per square mile, with an area of 468.19 square miles. Food culture include an array of international cuisines influenced by the city\u2019s immigrant history. In this study we will analyze public data to find insight, to open a new restaurant."
        },
        {
            "cell_type": "markdown",
            "metadata": {},
            "source": "### Project Goals"
        },
        {
            "cell_type": "markdown",
            "metadata": {},
            "source": "- What is the best location in New York City for a Mexican restaurant?\n- Which areas have potential Restaurant Market?\n- Which all areas lack Mexican Restaurants?"
        },
        {
            "cell_type": "markdown",
            "metadata": {},
            "source": "## 2. Data Understanding"
        },
        {
            "cell_type": "markdown",
            "metadata": {},
            "source": "New York City's have a diverse offer when it comes to restaurants, each belonging to different categories/countries or regions. For this project, we will use an the following open dataset:\n\nNew York City data that contains a list of Boroughs and Neighborhoods along with their gps latitude and longitude.\n\nDataset: https://cocl.us/new_york_dataset\n\nRestaurants in each neighborhood of New York City.\n\nData set: Foursquare API\n\nGeoSpace data set\n\nData set : https://data.cityofnewyork.us/City-Government/Borough-Boundaries/tqmj-j8zm Description: Get the New York Borough boundaries to visualize in a choropleth map.\n"
        }
    ],
    "metadata": {
        "kernelspec": {
            "display_name": "Python 3.7",
            "language": "python",
            "name": "python3"
        },
        "language_info": {
            "codemirror_mode": {
                "name": "ipython",
                "version": 3
            },
            "file_extension": ".py",
            "mimetype": "text/x-python",
            "name": "python",
            "nbconvert_exporter": "python",
            "pygments_lexer": "ipython3",
            "version": "3.7.10"
        }
    },
    "nbformat": 4,
    "nbformat_minor": 1
}