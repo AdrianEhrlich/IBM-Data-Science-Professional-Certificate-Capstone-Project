{
    "cells": [
        {
            "cell_type": "markdown",
            "metadata": {
                "collapsed": true
            },
            "source": "# Capstone Project - The Battle of Neighborhoods"
        },
        {
            "cell_type": "markdown",
            "metadata": {},
            "source": "## Index"
        },
        {
            "cell_type": "markdown",
            "metadata": {},
            "source": "1. Introduction\n2. Data Understanding\n3. Data Preparation & Cleaning\n4. Modeling\n5. Evaluation\n6. Deployment\n7. Conclusions"
        },
        {
            "cell_type": "markdown",
            "metadata": {},
            "source": "## 1. Introduction"
        },
        {
            "cell_type": "markdown",
            "metadata": {},
            "source": "In this project we will focuse on finding the right place to open a new cosmetics shop dedicated to serve mainly the male population inside the so-called Almendra Central of the city which is the are found inside the M-30 orbital motorway.\nMadrid is the capital and most-populous city of Spain. It has almost 3.4 million inhabitants and a metropolitan area population of approximately 6.7 million. It's the second largest city in the European Union, surpassed only by Berlin in its administrative limits, and its monocentric metropolitan area is the second-largest in the EU, surpassed only by Paris."
        },
        {
            "cell_type": "markdown",
            "metadata": {},
            "source": "### Project Goals"
        },
        {
            "cell_type": "markdown",
            "metadata": {},
            "source": "- Find every cosmetique shops inside the 'Almendra Central' of Madrid\n- Find potential areas to open the sop\n- Find the best location to open the new shop"
        },
        {
            "cell_type": "markdown",
            "metadata": {},
            "source": "## 2. Data Understanding"
        },
        {
            "cell_type": "markdown",
            "metadata": {},
            "source": "There is a diverser market of cosmetics shops in Madrid, ranging from stablished brands to many emerging ones that offer different alternatives. \n\nTo find all the potential competitors and their location we will make use of:\n\n- Foursquare, to find the different cosmetics shops around the city center\n\nhttps://foursquare.com/explore?mode=url&ne=40.459095%2C-3.655658&q=cosmetics&sw=40.412777%2C-3.72046\n\n- Geoportal de Madrid, to create visuals that help understanding the distribution of the potential competitors\n\nhttps://geoportal.madrid.es/IDEAM_WBGEOPORTAL/dataset.iam?id=422fa235-762b-11e9-861d-ecb1d753f6e8"
        }
    ],
    "metadata": {
        "kernelspec": {
            "display_name": "Python 3.7",
            "language": "python",
            "name": "python3"
        },
        "language_info": {
            "codemirror_mode": {
                "name": "ipython",
                "version": 3
            },
            "file_extension": ".py",
            "mimetype": "text/x-python",
            "name": "python",
            "nbconvert_exporter": "python",
            "pygments_lexer": "ipython3",
            "version": "3.7.10"
        }
    },
    "nbformat": 4,
    "nbformat_minor": 1
}